{
 "cells": [
  {
   "cell_type": "code",
   "execution_count": 11,
   "id": "48ee841e",
   "metadata": {},
   "outputs": [],
   "source": [
    "import requests"
   ]
  },
  {
   "cell_type": "code",
   "execution_count": 12,
   "id": "a7b42efc",
   "metadata": {},
   "outputs": [],
   "source": [
    "## Enter the genus name\n",
    "parents_name = \"Acartia\" # <<here!!"
   ]
  },
  {
   "cell_type": "code",
   "execution_count": 13,
   "id": "34fd9765",
   "metadata": {},
   "outputs": [],
   "source": [
    "## get API path\n",
    "base_url_of_parents = \"https://www.marinespecies.org/rest\"\n",
    "api_path = f\"/AphiaIDByName/{parents_name}\"\n",
    "parents_url = base_url_of_parents + api_path"
   ]
  },
  {
   "cell_type": "code",
   "execution_count": 14,
   "id": "c8168dba",
   "metadata": {},
   "outputs": [
    {
     "name": "stdout",
     "output_type": "stream",
     "text": [
      "104108\n"
     ]
    }
   ],
   "source": [
    "## get the aphia_id of genus\n",
    "response = requests.get(parents_url)\n",
    "response.raise_for_status() # In case of error..\n",
    "\n",
    "aphia_id = response.json()\n",
    "print(aphia_id)"
   ]
  },
  {
   "cell_type": "code",
   "execution_count": 15,
   "id": "4f1b92b3",
   "metadata": {},
   "outputs": [
    {
     "name": "stdout",
     "output_type": "stream",
     "text": [
      "child list belonging to parentAcartia:\n",
      "- Acartia arbruta\n",
      "- Acartia denticornis\n"
     ]
    }
   ],
   "source": [
    "pecies_url = f\"https://www.marinespecies.org/rest/AphiaChildrenByAphiaID/{aphia_id}\"\n",
    "\n",
    "response_species = requests.get(pecies_url)\n",
    "response_species.raise_for_status()\n",
    "\n",
    "children = response_species.json()\n",
    "\n",
    "if children:\n",
    "    print(f\"child list belonging to parent{parents_name}:\")\n",
    "    for child in children:\n",
    "        # you can choose the taxonomic unit\n",
    "        if child['rank'] == 'Species' and child['status'] == 'accepted':\n",
    "        \n",
    "            print(f\"- {child['scientificname']}\")\n",
    "else:\n",
    "    print(f\"No children belonging to the parent{parents_name} can be found.\")"
   ]
  },
  {
   "cell_type": "markdown",
   "id": "a6dc7014",
   "metadata": {},
   "source": []
  }
 ],
 "metadata": {
  "kernelspec": {
   "display_name": "venv",
   "language": "python",
   "name": "python3"
  },
  "language_info": {
   "codemirror_mode": {
    "name": "ipython",
    "version": 3
   },
   "file_extension": ".py",
   "mimetype": "text/x-python",
   "name": "python",
   "nbconvert_exporter": "python",
   "pygments_lexer": "ipython3",
   "version": "3.13.7"
  }
 },
 "nbformat": 4,
 "nbformat_minor": 5
}
